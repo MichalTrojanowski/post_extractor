{
 "cells": [
  {
   "cell_type": "code",
   "execution_count": 1,
   "metadata": {},
   "outputs": [
    {
     "name": "stdout",
     "output_type": "stream",
     "text": [
      "Requirement already satisfied: textblob in /opt/conda/lib/python3.6/site-packages\n",
      "Requirement already satisfied: nltk>=3.1 in /opt/conda/lib/python3.6/site-packages (from textblob)\n",
      "Requirement already satisfied: six in /opt/conda/lib/python3.6/site-packages (from nltk>=3.1->textblob)\n",
      "[nltk_data] Downloading package brown to /home/jovyan/nltk_data...\n",
      "[nltk_data]   Package brown is already up-to-date!\n",
      "[nltk_data] Downloading package punkt to /home/jovyan/nltk_data...\n",
      "[nltk_data]   Package punkt is already up-to-date!\n",
      "[nltk_data] Downloading package wordnet to /home/jovyan/nltk_data...\n",
      "[nltk_data]   Package wordnet is already up-to-date!\n",
      "[nltk_data] Downloading package averaged_perceptron_tagger to\n",
      "[nltk_data]     /home/jovyan/nltk_data...\n",
      "[nltk_data]   Package averaged_perceptron_tagger is already up-to-\n",
      "[nltk_data]       date!\n",
      "Finished.\n"
     ]
    }
   ],
   "source": [
    "!pip install textblob\n",
    "!python -m textblob.download_corpora lite"
   ]
  },
  {
   "cell_type": "code",
   "execution_count": 2,
   "metadata": {},
   "outputs": [
    {
     "name": "stdout",
     "output_type": "stream",
     "text": [
      "Oh, please ... very interesting product.\n",
      "\n",
      "I've never had contact with such paint.\n",
      "\n",
      "Regards ;)\n",
      "\n",
      "Please ... very interesting product. I never had contact with such a paint. Regards ;)\n",
      "\n",
      "{'NN': 33, 'JJ': 18, 'CC': 5, 'CD': 1, 'VBN': 1, 'IN': 20, 'VBP': 9, 'WDT': 1, 'VB': 12, 'PRP': 28, 'VBZ': 11, 'DT': 22, 'RB': 15, 'NNP': 2, 'NNS': 11, 'JJR': 1, 'UH': 1, 'EX': 1, 'PRP$': 3, 'MD': 5, 'VBD': 7, 'WP': 3, 'VBG': 1, 'TO': 4}\n",
      "\n",
      "Row(polarity=0.3, subjectivity=0.7166666666666667)\n",
      "\n",
      "Row(polarity=0.16666666666666666, subjectivity=0.3666666666666667)\n",
      "\n",
      "Row(polarity=-0.7999999999999999, subjectivity=1.0)\n"
     ]
    }
   ],
   "source": [
    "import json\n",
    "\n",
    "import pyspark\n",
    "import pyspark.sql\n",
    "from pyspark.ml import Pipeline\n",
    "\n",
    "from modules.posts import SentenceTransformer, PostTransformer, TranslateTransformer, SpeechPartsTransformer, SentimentTransformer\n",
    "\n",
    "\n",
    "sc = pyspark.SparkContext('local[*]', 'PipelineFlow')\n",
    "sess = pyspark.sql.SparkSession(sc)\n",
    "rdd = sc.wholeTextFiles('data/*')\n",
    "rdd = rdd.map(lambda x: (x[0], json.loads(x[1])))\n",
    "df = rdd.toDF(['file', 'content'])\n",
    "\n",
    "poster = PostTransformer().setInputCol('content').setOutputCol('posts')\n",
    "translator = TranslateTransformer().setInputCol('posts').setOutputCol('translated')\n",
    "sentencer = SentenceTransformer().setInputCol('translated').setOutputCol('sentences')\n",
    "speechParter = SpeechPartsTransformer().setInputCol('translated').setOutputCol('speechParts')\n",
    "sentimenter = SentimentTransformer().setInputCol('translated').setOutputCol('sentiments')\n",
    "\n",
    "pipeline = Pipeline(stages=[poster, translator, sentencer, speechParter, sentimenter])\n",
    "out = pipeline.fit(df).transform(df)\n",
    "\n",
    "a = out.select('sentences').first().sentences[0]\n",
    "b = out.select('sentences').first().sentences[1]\n",
    "c = out.select('sentences').first().sentences[2]\n",
    "d = out.select('translated').first().translated[0]\n",
    "e = out.select('speechParts').first().speechParts\n",
    "f = out.select('sentiments').first().sentiments[0]\n",
    "g = out.select('sentiments').first().sentiments[1]\n",
    "h = out.select('sentiments').first().sentiments[2]\n",
    "\n",
    "print('{}\\n\\n{}\\n\\n{}\\n\\n{}\\n\\n{}\\n\\n{}\\n\\n{}\\n\\n{}'.format(a,b,c,d,e,f,g,h))"
   ]
  },
  {
   "cell_type": "code",
   "execution_count": null,
   "metadata": {},
   "outputs": [],
   "source": []
  }
 ],
 "metadata": {
  "kernelspec": {
   "display_name": "Python 3",
   "language": "python",
   "name": "python3"
  },
  "language_info": {
   "codemirror_mode": {
    "name": "ipython",
    "version": 3
   },
   "file_extension": ".py",
   "mimetype": "text/x-python",
   "name": "python",
   "nbconvert_exporter": "python",
   "pygments_lexer": "ipython3",
   "version": "3.6.2"
  }
 },
 "nbformat": 4,
 "nbformat_minor": 2
}
