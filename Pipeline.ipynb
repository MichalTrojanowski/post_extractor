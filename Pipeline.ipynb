{
 "cells": [
  {
   "cell_type": "code",
   "execution_count": 1,
   "metadata": {},
   "outputs": [
    {
     "name": "stdout",
     "output_type": "stream",
     "text": [
      "Requirement already satisfied: textblob in /opt/conda/lib/python3.6/site-packages\n",
      "Requirement already satisfied: nltk>=3.1 in /opt/conda/lib/python3.6/site-packages (from textblob)\n",
      "Requirement already satisfied: six in /opt/conda/lib/python3.6/site-packages (from nltk>=3.1->textblob)\n",
      "[nltk_data] Downloading package brown to /home/jovyan/nltk_data...\n",
      "[nltk_data]   Package brown is already up-to-date!\n",
      "[nltk_data] Downloading package punkt to /home/jovyan/nltk_data...\n",
      "[nltk_data]   Package punkt is already up-to-date!\n",
      "[nltk_data] Downloading package wordnet to /home/jovyan/nltk_data...\n",
      "[nltk_data]   Package wordnet is already up-to-date!\n",
      "[nltk_data] Downloading package averaged_perceptron_tagger to\n",
      "[nltk_data]     /home/jovyan/nltk_data...\n",
      "[nltk_data]   Package averaged_perceptron_tagger is already up-to-\n",
      "[nltk_data]       date!\n",
      "Finished.\n"
     ]
    }
   ],
   "source": [
    "!pip install textblob\n",
    "!python -m textblob.download_corpora lite"
   ]
  },
  {
   "cell_type": "code",
   "execution_count": 2,
   "metadata": {},
   "outputs": [
    {
     "name": "stdout",
     "output_type": "stream",
     "text": [
      "Please ... very interesting product.\n",
      "\n",
      "I never had contact with such a paint.\n",
      "\n",
      "Regards ;)\n",
      "\n",
      "Please ... very interesting product. I never had contact with such a paint. Regards ;)\n"
     ]
    }
   ],
   "source": [
    "import json\n",
    "\n",
    "import pyspark\n",
    "import pyspark.sql\n",
    "from pyspark.ml import Pipeline\n",
    "\n",
    "from modules.posts import SentenceTransformer, PostTransformer, TranslateTransformer\n",
    "\n",
    "\n",
    "sc = pyspark.SparkContext('local[*]', 'PipelineFlow')\n",
    "sess = pyspark.sql.SparkSession(sc)\n",
    "rdd = sc.wholeTextFiles('data/*')\n",
    "rdd = rdd.map(lambda x: (x[0], json.loads(x[1])))\n",
    "df = rdd.toDF(['file', 'content'])\n",
    "\n",
    "poster = PostTransformer().setInputCol('content').setOutputCol('posts')\n",
    "translator = TranslateTransformer().setInputCol('posts').setOutputCol('translated')\n",
    "sentencer = SentenceTransformer().setInputCol('translated').setOutputCol('sentences')\n",
    "\n",
    "pipeline = Pipeline(stages=[poster, translator, sentencer])\n",
    "out = pipeline.fit(df).transform(df)\n",
    "a = out.select('sentences').first().sentences[0]\n",
    "b = out.select('sentences').first().sentences[1]\n",
    "c = out.select('sentences').first().sentences[2]\n",
    "d = out.select('translated').first().translated[0]\n",
    "\n",
    "print('{}\\n\\n{}\\n\\n{}\\n\\n{}'.format(a,b,c,d))"
   ]
  }
 ],
 "metadata": {
  "kernelspec": {
   "display_name": "Python 3",
   "language": "python",
   "name": "python3"
  },
  "language_info": {
   "codemirror_mode": {
    "name": "ipython",
    "version": 3
   },
   "file_extension": ".py",
   "mimetype": "text/x-python",
   "name": "python",
   "nbconvert_exporter": "python",
   "pygments_lexer": "ipython3",
   "version": "3.6.3"
  }
 },
 "nbformat": 4,
 "nbformat_minor": 2
}
