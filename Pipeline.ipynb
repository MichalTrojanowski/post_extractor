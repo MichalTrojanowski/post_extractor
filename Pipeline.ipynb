{
 "cells": [
  {
   "cell_type": "code",
   "execution_count": null,
   "metadata": {},
   "outputs": [],
   "source": [
    "!pip install textblob\n",
    "!python -m textblob.download_corpora lite"
   ]
  },
  {
   "cell_type": "code",
   "execution_count": null,
   "metadata": {},
   "outputs": [],
   "source": [
    "import json\n",
    "\n",
    "import pyspark\n",
    "import pyspark.sql\n",
    "from pyspark.ml import Pipeline\n",
    "\n",
    "from modules.posts import (\n",
    "    SentenceTransformer, PostTransformer, TranslateTransformer,\n",
    "    SpeechPartsTransformer, SentimentTransformer\n",
    ")\n",
    "from modules.features import (\n",
    "    FeaturesTransformer\n",
    ")\n",
    "\n",
    "\n",
    "sc = pyspark.SparkContext('local[*]', 'PipelineFlow')\n",
    "sess = pyspark.sql.SparkSession(sc)\n",
    "    "
   ]
  },
  {
   "cell_type": "code",
   "execution_count": null,
   "metadata": {},
   "outputs": [],
   "source": [
    "\n",
    "def transform_features(spark_context):\n",
    "    rdd = spark_context.wholeTextFiles('data/featuresample.json')\n",
    "    rdd = rdd.map(lambda x: (x[0], x[1]))\n",
    "    df = rdd.toDF(['file', 'content'])\n",
    "\n",
    "    features = [\n",
    "        \"leaf\",\n",
    "        \"has-attribute-class\",\n",
    "    ]\n",
    "    \n",
    "    feature_transformer = FeaturesTransformer(features=features)\n",
    "    feature_transformer.setInputCol('content').setOutputCol('features')\n",
    "    \n",
    "    stages = [\n",
    "        feature_transformer,\n",
    "    ]\n",
    "    \n",
    "    pipeline = Pipeline(stages=stages)\n",
    "    result = pipeline.fit(df).transform(df)\n",
    "    return result\n"
   ]
  },
  {
   "cell_type": "code",
   "execution_count": null,
   "metadata": {},
   "outputs": [],
   "source": [
    "\n",
    "def transform_posts(spark_context):\n",
    "    rdd = spark_context.wholeTextFiles('data/posts/*')\n",
    "    rdd = rdd.map(lambda x: (x[0], json.loads(x[1])))\n",
    "    df = rdd.toDF(['file', 'content'])\n",
    "    \n",
    "    poster = PostTransformer().setInputCol('content').setOutputCol('posts')\n",
    "    translator = TranslateTransformer().setInputCol('posts').setOutputCol('translated')\n",
    "    sentencer = SentenceTransformer().setInputCol('translated').setOutputCol('sentences')\n",
    "    speechParter = SpeechPartsTransformer().setInputCol('translated').setOutputCol('speechParts')\n",
    "    sentimenter = SentimentTransformer().setInputCol('translated').setOutputCol('sentiments')\n",
    "\n",
    "    stages = [\n",
    "        poster,\n",
    "        translator, \n",
    "        sentencer, \n",
    "        speechParter, \n",
    "        sentimenter\n",
    "    ]\n",
    "    \n",
    "    pipeline = Pipeline(stages=stages)\n",
    "    result = pipeline.fit(df).transform(df)\n",
    "    return result\n"
   ]
  },
  {
   "cell_type": "code",
   "execution_count": null,
   "metadata": {},
   "outputs": [],
   "source": [
    "out = transform_posts(sc)\n",
    "\n",
    "a = out.select('sentences').first().sentences[0]\n",
    "b = out.select('sentences').first().sentences[1]\n",
    "c = out.select('sentences').first().sentences[2]\n",
    "d = out.select('translated').first().translated[0]\n",
    "e = out.select('speechParts').first().speechParts\n",
    "f = out.select('sentiments').first().sentiments[0]\n",
    "g = out.select('sentiments').first().sentiments[1]\n",
    "h = out.select('sentiments').first().sentiments[2]\n",
    "\n",
    "scheme = '{}\\n\\n{}\\n\\n{}\\n\\n{}\\n\\n{}\\n\\n{}\\n\\n{}\\n\\n{}'\n",
    "print(scheme.format(a,b,c,d,e,f,g,h))"
   ]
  },
  {
   "cell_type": "code",
   "execution_count": null,
   "metadata": {},
   "outputs": [],
   "source": [
    "result = transform_features(sc)\n",
    "\n",
    "print(result.first().features)"
   ]
  }
 ],
 "metadata": {
  "kernelspec": {
   "display_name": "Python 3",
   "language": "python",
   "name": "python3"
  },
  "language_info": {
   "codemirror_mode": {
    "name": "ipython",
    "version": 3
   },
   "file_extension": ".py",
   "mimetype": "text/x-python",
   "name": "python",
   "nbconvert_exporter": "python",
   "pygments_lexer": "ipython3",
   "version": "3.6.3"
  }
 },
 "nbformat": 4,
 "nbformat_minor": 2
}
