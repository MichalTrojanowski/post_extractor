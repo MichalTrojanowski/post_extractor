{
 "cells": [
  {
   "cell_type": "code",
   "execution_count": 1,
   "metadata": {},
   "outputs": [
    {
     "name": "stdout",
     "output_type": "stream",
     "text": [
      "Requirement already satisfied: textblob in /opt/conda/lib/python3.6/site-packages\n",
      "Requirement already satisfied: nltk>=3.1 in /opt/conda/lib/python3.6/site-packages (from textblob)\n",
      "Requirement already satisfied: six in /opt/conda/lib/python3.6/site-packages (from nltk>=3.1->textblob)\n",
      "[nltk_data] Downloading package brown to /home/jovyan/nltk_data...\n",
      "[nltk_data]   Package brown is already up-to-date!\n",
      "[nltk_data] Downloading package punkt to /home/jovyan/nltk_data...\n",
      "[nltk_data]   Package punkt is already up-to-date!\n",
      "[nltk_data] Downloading package wordnet to /home/jovyan/nltk_data...\n",
      "[nltk_data]   Package wordnet is already up-to-date!\n",
      "[nltk_data] Downloading package averaged_perceptron_tagger to\n",
      "[nltk_data]     /home/jovyan/nltk_data...\n",
      "[nltk_data]   Package averaged_perceptron_tagger is already up-to-\n",
      "[nltk_data]       date!\n",
      "Finished.\n"
     ]
    }
   ],
   "source": [
    "!pip install textblob\n",
    "!python -m textblob.download_corpora lite"
   ]
  },
  {
   "cell_type": "code",
   "execution_count": 2,
   "metadata": {},
   "outputs": [],
   "source": [
    "import pyspark\n",
    "import pyspark.sql\n",
    "\n",
    "\n",
    "sc = pyspark.SparkContext('local[*]', 'PipelineFlow')\n",
    "sess = pyspark.sql.SparkSession(sc)"
   ]
  },
  {
   "cell_type": "code",
   "execution_count": 3,
   "metadata": {},
   "outputs": [
    {
     "name": "stdout",
     "output_type": "stream",
     "text": [
      "+--------------------+--------------------+\n",
      "|                file|             content|\n",
      "+--------------------+--------------------+\n",
      "|file:/home/jovyan...|[{\"content\":\"O pr...|\n",
      "|file:/home/jovyan...|[{\"content\":\"Powi...|\n",
      "|file:/home/jovyan...|[{\"content\":\"Oj, ...|\n",
      "+--------------------+--------------------+\n",
      "\n"
     ]
    }
   ],
   "source": [
    "rdd = sc.wholeTextFiles('data/*')\n",
    "rdd = rdd.map(lambda x: (x[0], x[1]))\n",
    "df = rdd.toDF(['file', 'content'])\n",
    "df.show()"
   ]
  },
  {
   "cell_type": "code",
   "execution_count": 4,
   "metadata": {},
   "outputs": [
    {
     "name": "stdout",
     "output_type": "stream",
     "text": [
      "+--------------------+--------------------+--------------------+\n",
      "|                file|             content|               posts|\n",
      "+--------------------+--------------------+--------------------+\n",
      "|file:/home/jovyan...|[{\"content\":\"O pr...|[O prosze...bardz...|\n",
      "|file:/home/jovyan...|[{\"content\":\"Powi...|[Powiedz mi co Ty...|\n",
      "|file:/home/jovyan...|[{\"content\":\"Oj, ...|[Oj, też jestem w...|\n",
      "+--------------------+--------------------+--------------------+\n",
      "\n"
     ]
    }
   ],
   "source": [
    "from pyspark.ml import Pipeline\n",
    "\n",
    "import ast\n",
    "\n",
    "from modules.posts import PostTransformer\n",
    "\n",
    "\n",
    "poster = PostTransformer().setInputCol('content').setOutputCol('posts')\n",
    "\n",
    "a = poster.transform(df)\n",
    "a.show()\n",
    "\n",
    "#pipeline = Pipeline(stages=[sentencer])\n",
    "# pipeline.fit(df).transform(df).show()"
   ]
  },
  {
   "cell_type": "code",
   "execution_count": null,
   "metadata": {},
   "outputs": [],
   "source": []
  }
 ],
 "metadata": {
  "kernelspec": {
   "display_name": "Python 3",
   "language": "python",
   "name": "python3"
  },
  "language_info": {
   "codemirror_mode": {
    "name": "ipython",
    "version": 3
   },
   "file_extension": ".py",
   "mimetype": "text/x-python",
   "name": "python",
   "nbconvert_exporter": "python",
   "pygments_lexer": "ipython3",
   "version": "3.6.3"
  }
 },
 "nbformat": 4,
 "nbformat_minor": 2
}
